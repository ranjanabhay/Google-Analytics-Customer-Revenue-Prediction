{
 "cells": [
  {
   "cell_type": "code",
   "execution_count": 7,
   "metadata": {},
   "outputs": [],
   "source": [
    "import pandas as pd\n",
    "import numpy as np"
   ]
  },
  {
   "cell_type": "code",
   "execution_count": 8,
   "metadata": {},
   "outputs": [],
   "source": [
    "import sklearn as sk\n",
    "import json"
   ]
  },
  {
   "cell_type": "code",
   "execution_count": 9,
   "metadata": {},
   "outputs": [],
   "source": [
    "# Checking the test dataset"
   ]
  },
  {
   "cell_type": "code",
   "execution_count": 10,
   "metadata": {},
   "outputs": [],
   "source": [
    "from pandas.io.json import json_normalize\n",
    "import time\n",
    "from datetime import datetime\n",
    "import gc\n",
    "import psutil\n",
    "from sklearn.preprocessing import LabelEncoder"
   ]
  },
  {
   "cell_type": "code",
   "execution_count": 11,
   "metadata": {},
   "outputs": [],
   "source": [
    "columns_to_parse = ['device','geoNetwork','totals','trafficSource']"
   ]
  },
  {
   "cell_type": "code",
   "execution_count": 12,
   "metadata": {},
   "outputs": [],
   "source": [
    "def parse_dataframe(path):\n",
    "    #path = '/Users/abhayranjan/kaggle/google/all/train.csv'\n",
    "    data_df= pd.read_csv(path,converters={column: json.loads for column in columns_to_parse},\n",
    "                                dtype={'fullVisitorId':str})\n",
    "    \n",
    "    #parse the json type columns\n",
    "    for col in columns_to_parse:\n",
    "        json_col_df = json_normalize(data_df[col])\n",
    "        json_col_df.columns = [f\"{col}_{sub_col}\" for sub_col in json_col_df.columns]\n",
    "        # we drop the object column processed and we add the column created from json fields.\n",
    "        data_df = data_df.drop(col,axis=1).merge(json_col_df,right_index=True,left_index=True)\n",
    "        \n",
    "    return data_df "
   ]
  },
  {
   "cell_type": "code",
   "execution_count": 13,
   "metadata": {},
   "outputs": [],
   "source": [
    "def process_datetime(data_df):\n",
    "    data_df['date'] = data_df['date'].astype(str)\n",
    "    data_df['date'] = data_df['date'].apply(lambda x:x[:4]+\"-\"+x[4:6]+\"-\"+x[6:])\n",
    "    data_df['date'] = pd.to_datetime(data_df['date'])\n",
    "    data_df['year'] = data_df['date'].dt.year\n",
    "    data_df['month'] = data_df['date'].dt.month\n",
    "    data_df['day'] = data_df['date'].dt.day\n",
    "    data_df['weekday'] =data_df['date'].dt.weekday\n",
    "    data_df['weekofyear'] =data_df['date'].dt.weekofyear\n",
    "    data_df['month_unique_user_count'] = data_df.groupby('month')['fullVisitorId'].transform('nunique')\n",
    "    data_df['day_unique_user_count'] = data_df.groupby('day')['fullVisitorId'].transform('nunique')\n",
    "    data_df['weekday_unique_user_count'] = data_df.groupby('weekday')['fullVisitorId'].transform('nunique')\n",
    "    return data_df"
   ]
  },
  {
   "cell_type": "code",
   "execution_count": 14,
   "metadata": {},
   "outputs": [],
   "source": [
    "def process_format(data_df):\n",
    "    print(\"Inside process_format function\")\n",
    "    for col in ['visitNumber','totals_hits','totals_pageviews']:\n",
    "        data_df[col] = data_df[col].astype(float)\n",
    "            \n",
    "    data_df['trafficSource_adwordsClickInfo.isVideoAd'].fillna(True,inplace=True)\n",
    "    data_df['trafficSource_isTrueDirect'].fillna('False',inplace=True)\n",
    "    return data_df"
   ]
  },
  {
   "cell_type": "code",
   "execution_count": 15,
   "metadata": {},
   "outputs": [],
   "source": [
    "def process_device(data_df):\n",
    "    print(\"process device\")\n",
    "    data_df['browser_category'] = data_df['device_browser'] + \"_\"+data_df['device_deviceCategory']\n",
    "    data_df['browser_os'] = data_df['device_browser'] + \"_\"+data_df['device_operatingSystem']\n",
    "    return data_df\n"
   ]
  },
  {
   "cell_type": "code",
   "execution_count": 16,
   "metadata": {},
   "outputs": [],
   "source": [
    "def process_totals(data_df):\n",
    "    print(\"process totals..\")\n",
    "    data_df['visitNumber'] = np.log1p(data_df['visitNumber'])\n",
    "    data_df['totals_hits'] = np.log1p(data_df['totals_hits'])\n",
    "    data_df['totals_pageviews'] = np.log1p(data_df['totals_pageviews']).fillna(0)\n",
    "    data_df['mean_hits_per_day'] = data_df.groupby(['day'])['totals_hits'].transform('mean')\n",
    "    data_df['sum_hits_per_day'] = data_df.groupby(['day'])['totals_hits'].transform('sum')\n",
    "    data_df['max_hits_per_day'] = data_df.groupby(['day'])['totals_hits'].transform('max')\n",
    "    data_df['min_hits_per_day'] = data_df.groupby(['day'])['totals_hits'].transform('min')\n",
    "    data_df['var_hits_per_day'] = data_df.groupby(['day'])['totals_hits'].transform('var')\n",
    "    data_df['mean_pageviews_per_day'] = data_df.groupby(['day'])['totals_pageviews'].transform('mean')\n",
    "    data_df['sum_pageviews_per_day'] = data_df.groupby(['day'])['totals_pageviews'].transform('sum')\n",
    "    data_df['max_pageviews_per_day'] = data_df.groupby(['day'])['totals_pageviews'].transform('max')\n",
    "    data_df['min_pageviews_per_day'] = data_df.groupby(['day'])['totals_pageviews'].transform('min')\n",
    "    return data_df"
   ]
  },
  {
   "cell_type": "code",
   "execution_count": 17,
   "metadata": {},
   "outputs": [],
   "source": [
    "def process_geo_network(data_df):\n",
    "    print(\"process geo network...\")\n",
    "    data_df['sum_pageviews_per_network_domain'] = data_df.groupby(['geoNetwork_networkDomain'])['totals_pageviews'].transform('sum')\n",
    "    data_df['count_pageviews_per_network_domain'] = data_df.groupby(['geoNetwork_networkDomain'])['totals_pageviews'].transform('count') \n",
    "    data_df['mean_pageviews_per_network_domain'] = data_df.groupby(['geoNetwork_networkDomain'])['totals_pageviews'].transform('mean')\n",
    "    data_df['sum_hits_per_network_domain'] = data_df.groupby(['geoNetwork_networkDomain'])['totals_hits'].transform('sum')\n",
    "    data_df['count_hits_per_network_domain'] = data_df.groupby(['geoNetwork_networkDomain'])['totals_hits'].transform('count')\n",
    "    data_df['mean_hits_per_network_domain'] = data_df.groupby(['geoNetwork_networkDomain'])['totals_hits'].transform('mean')\n",
    "    return data_df                                                  "
   ]
  },
  {
   "cell_type": "code",
   "execution_count": 18,
   "metadata": {},
   "outputs": [],
   "source": [
    "#g_train_df = process_geo_network(g_train_df)"
   ]
  },
  {
   "cell_type": "markdown",
   "metadata": {},
   "source": [
    "columns_to_parse = ['device','geoNetwork','totals','trafficSource']\n"
   ]
  },
  {
   "cell_type": "code",
   "execution_count": 19,
   "metadata": {},
   "outputs": [],
   "source": [
    "pd.set_option('display.max.columns',None)"
   ]
  },
  {
   "cell_type": "code",
   "execution_count": 20,
   "metadata": {},
   "outputs": [],
   "source": [
    "#g_train_df.head(n=5)"
   ]
  },
  {
   "cell_type": "code",
   "execution_count": 21,
   "metadata": {},
   "outputs": [],
   "source": [
    "def process_traffic_source(data_df):\n",
    "    print(\"process traffic source....\")\n",
    "    data_df['source_country'] = data_df['trafficSource_source']+\"_\" +data_df['geoNetwork_country']\n",
    "    data_df['campaign_medium'] = data_df['trafficSource_campaign']+\"_\" +data_df['trafficSource_medium']\n",
    "    data_df['medium_hits_mean'] = data_df.groupby(['trafficSource_medium'])['totals_hits'].transform('mean')\n",
    "    data_df['medium_hits_min'] = data_df.groupby(['trafficSource_medium'])['totals_hits'].transform('min')\n",
    "    data_df['medium_hits_max'] =data_df.groupby(['trafficSource_medium'])['totals_hits'].transform('max')\n",
    "    data_df['medium_hits_sum'] = data_df.groupby(['trafficSource_medium'])['totals_hits'].transform('sum')\n",
    "    return data_df"
   ]
  },
  {
   "cell_type": "code",
   "execution_count": null,
   "metadata": {},
   "outputs": [],
   "source": [
    "                                                "
   ]
  },
  {
   "cell_type": "code",
   "execution_count": 22,
   "metadata": {},
   "outputs": [],
   "source": [
    "g_train_df = parse_dataframe('/Users/abhayranjan/kaggle/google/all/train.csv')\n",
    "g_train_df = process_datetime(g_train_df)                                                  "
   ]
  },
  {
   "cell_type": "code",
   "execution_count": 23,
   "metadata": {},
   "outputs": [],
   "source": [
    "g_test_df = parse_dataframe('/Users/abhayranjan/kaggle/google/all/test.csv')\n",
    "g_test_df = process_datetime(g_test_df)   "
   ]
  },
  {
   "cell_type": "code",
   "execution_count": 24,
   "metadata": {},
   "outputs": [],
   "source": [
    "cols_to_drop = [col for col in g_train_df.columns if g_train_df[col].nunique(dropna=False) == 1]\n",
    "g_train_df.drop(cols_to_drop, axis=1, inplace=True)\n",
    "g_test_df.drop([col for col in cols_to_drop if col in g_test_df.columns], axis=1, inplace=True)\n",
    "\n",
    "###only one not null value\n",
    "g_train_df.drop(['trafficSource_campaignCode'], axis=1, inplace=True)\n",
    "\n",
    "###converting columns format\n",
    "g_train_df['totals_transactionRevenue'] = g_train_df['totals_transactionRevenue'].astype(float)\n",
    "g_train_df['totals_transactionRevenue'] = g_train_df['totals_transactionRevenue'].fillna(0)"
   ]
  },
  {
   "cell_type": "code",
   "execution_count": 25,
   "metadata": {},
   "outputs": [
    {
     "name": "stdout",
     "output_type": "stream",
     "text": [
      "Inside process_format function\n",
      "process device\n",
      "process totals..\n"
     ]
    },
    {
     "name": "stderr",
     "output_type": "stream",
     "text": [
      "/Users/abhayranjan/anaconda3/lib/python3.6/site-packages/ipykernel_launcher.py:5: RuntimeWarning: invalid value encountered in log1p\n",
      "  \"\"\"\n"
     ]
    },
    {
     "name": "stdout",
     "output_type": "stream",
     "text": [
      "process geo network...\n",
      "process traffic source....\n"
     ]
    }
   ],
   "source": [
    "g_train_df = process_format(g_train_df)\n",
    "g_tain_df = process_device(g_train_df)\n",
    "g_train_df = process_totals(g_train_df)\n",
    "g_train_df = process_geo_network(g_train_df)\n",
    "g_train_df = process_traffic_source(g_train_df)   "
   ]
  },
  {
   "cell_type": "code",
   "execution_count": 26,
   "metadata": {},
   "outputs": [
    {
     "name": "stdout",
     "output_type": "stream",
     "text": [
      "Inside process_format function\n",
      "process device\n",
      "process totals..\n"
     ]
    },
    {
     "name": "stderr",
     "output_type": "stream",
     "text": [
      "/Users/abhayranjan/anaconda3/lib/python3.6/site-packages/ipykernel_launcher.py:5: RuntimeWarning: invalid value encountered in log1p\n",
      "  \"\"\"\n"
     ]
    },
    {
     "name": "stdout",
     "output_type": "stream",
     "text": [
      "process geo network...\n",
      "process traffic source....\n"
     ]
    }
   ],
   "source": [
    "g_test_df = process_format(g_test_df)\n",
    "g_test_df = process_device(g_test_df)\n",
    "g_test_df = process_totals(g_test_df)\n",
    "g_test_df = process_geo_network(g_test_df)\n",
    "g_test_df = process_traffic_source(g_test_df)   "
   ]
  },
  {
   "cell_type": "code",
   "execution_count": 27,
   "metadata": {},
   "outputs": [],
   "source": [
    "# Numeric Columns\n",
    "\n",
    "num_cols = ['month_unique_user_count','day_unique_user_count','weekday_unique_user_count','visitNumber','total_hits','total_pageviews','mean_hits_per_day','sum_hits_per_day','max_hits_per_day','min_hits_per_day','var_hits_per_day',\n",
    "           'mean_pageviews_per_day','sum_pageviews_per_day','max_pageviews_per_day','min_pageviews_per_day',\n",
    "           'sum_pageviews_per_network_domain','count_pageviews_per_network_domain','mean_pageviews_per_network_domain','sum_hits_per_network_domain',\n",
    "            'count_hits_per_network_domain','mean_hits_per_network_domain','medium_hits_mean',\n",
    "           'medium_hits_min','medium_hits_max','medium_hits_sum']"
   ]
  },
  {
   "cell_type": "code",
   "execution_count": 28,
   "metadata": {},
   "outputs": [],
   "source": [
    "not_used_cols = ['visitNumber','date','fullVisitorId','sessionId','visitId','visitStartTime',\n",
    "                'totals_transactionRevenue','trafficSource_referralPath']"
   ]
  },
  {
   "cell_type": "code",
   "execution_count": 29,
   "metadata": {},
   "outputs": [
    {
     "name": "stdout",
     "output_type": "stream",
     "text": [
      "['channelGrouping', 'device_browser', 'device_deviceCategory', 'device_isMobile', 'device_operatingSystem', 'geoNetwork_city', 'geoNetwork_continent', 'geoNetwork_country', 'geoNetwork_metro', 'geoNetwork_networkDomain', 'geoNetwork_region', 'geoNetwork_subContinent', 'totals_bounces', 'totals_hits', 'totals_newVisits', 'totals_pageviews', 'trafficSource_adContent', 'trafficSource_adwordsClickInfo.adNetworkType', 'trafficSource_adwordsClickInfo.gclId', 'trafficSource_adwordsClickInfo.isVideoAd', 'trafficSource_adwordsClickInfo.page', 'trafficSource_adwordsClickInfo.slot', 'trafficSource_campaign', 'trafficSource_isTrueDirect', 'trafficSource_keyword', 'trafficSource_medium', 'trafficSource_source', 'year', 'month', 'day', 'weekday', 'weekofyear', 'browser_category', 'browser_os', 'source_country', 'campaign_medium']\n"
     ]
    }
   ],
   "source": [
    "cat_cols = [col for col in g_train_df.columns if col not in num_cols and col not in not_used_cols]\n",
    "print(cat_cols)"
   ]
  },
  {
   "cell_type": "code",
   "execution_count": 30,
   "metadata": {},
   "outputs": [
    {
     "name": "stdout",
     "output_type": "stream",
     "text": [
      "66\n",
      "Index(['channelGrouping', 'date', 'fullVisitorId', 'sessionId', 'visitId',\n",
      "       'visitNumber', 'visitStartTime', 'device_browser',\n",
      "       'device_deviceCategory', 'device_isMobile', 'device_operatingSystem',\n",
      "       'geoNetwork_city', 'geoNetwork_continent', 'geoNetwork_country',\n",
      "       'geoNetwork_metro', 'geoNetwork_networkDomain', 'geoNetwork_region',\n",
      "       'geoNetwork_subContinent', 'totals_bounces', 'totals_hits',\n",
      "       'totals_newVisits', 'totals_pageviews', 'totals_transactionRevenue',\n",
      "       'trafficSource_adContent',\n",
      "       'trafficSource_adwordsClickInfo.adNetworkType',\n",
      "       'trafficSource_adwordsClickInfo.gclId',\n",
      "       'trafficSource_adwordsClickInfo.isVideoAd',\n",
      "       'trafficSource_adwordsClickInfo.page',\n",
      "       'trafficSource_adwordsClickInfo.slot', 'trafficSource_campaign',\n",
      "       'trafficSource_isTrueDirect', 'trafficSource_keyword',\n",
      "       'trafficSource_medium', 'trafficSource_referralPath',\n",
      "       'trafficSource_source', 'year', 'month', 'day', 'weekday', 'weekofyear',\n",
      "       'month_unique_user_count', 'day_unique_user_count',\n",
      "       'weekday_unique_user_count', 'browser_category', 'browser_os',\n",
      "       'mean_hits_per_day', 'sum_hits_per_day', 'max_hits_per_day',\n",
      "       'min_hits_per_day', 'var_hits_per_day', 'mean_pageviews_per_day',\n",
      "       'sum_pageviews_per_day', 'max_pageviews_per_day',\n",
      "       'min_pageviews_per_day', 'sum_pageviews_per_network_domain',\n",
      "       'count_pageviews_per_network_domain',\n",
      "       'mean_pageviews_per_network_domain', 'sum_hits_per_network_domain',\n",
      "       'count_hits_per_network_domain', 'mean_hits_per_network_domain',\n",
      "       'source_country', 'campaign_medium', 'medium_hits_mean',\n",
      "       'medium_hits_min', 'medium_hits_max', 'medium_hits_sum'],\n",
      "      dtype='object')\n",
      "******************************\n",
      "65\n",
      "Index(['channelGrouping', 'date', 'fullVisitorId', 'sessionId', 'visitId',\n",
      "       'visitNumber', 'visitStartTime', 'device_browser',\n",
      "       'device_deviceCategory', 'device_isMobile', 'device_operatingSystem',\n",
      "       'geoNetwork_city', 'geoNetwork_continent', 'geoNetwork_country',\n",
      "       'geoNetwork_metro', 'geoNetwork_networkDomain', 'geoNetwork_region',\n",
      "       'geoNetwork_subContinent', 'totals_bounces', 'totals_hits',\n",
      "       'totals_newVisits', 'totals_pageviews', 'trafficSource_adContent',\n",
      "       'trafficSource_adwordsClickInfo.adNetworkType',\n",
      "       'trafficSource_adwordsClickInfo.gclId',\n",
      "       'trafficSource_adwordsClickInfo.isVideoAd',\n",
      "       'trafficSource_adwordsClickInfo.page',\n",
      "       'trafficSource_adwordsClickInfo.slot', 'trafficSource_campaign',\n",
      "       'trafficSource_isTrueDirect', 'trafficSource_keyword',\n",
      "       'trafficSource_medium', 'trafficSource_referralPath',\n",
      "       'trafficSource_source', 'year', 'month', 'day', 'weekday', 'weekofyear',\n",
      "       'month_unique_user_count', 'day_unique_user_count',\n",
      "       'weekday_unique_user_count', 'browser_category', 'browser_os',\n",
      "       'mean_hits_per_day', 'sum_hits_per_day', 'max_hits_per_day',\n",
      "       'min_hits_per_day', 'var_hits_per_day', 'mean_pageviews_per_day',\n",
      "       'sum_pageviews_per_day', 'max_pageviews_per_day',\n",
      "       'min_pageviews_per_day', 'sum_pageviews_per_network_domain',\n",
      "       'count_pageviews_per_network_domain',\n",
      "       'mean_pageviews_per_network_domain', 'sum_hits_per_network_domain',\n",
      "       'count_hits_per_network_domain', 'mean_hits_per_network_domain',\n",
      "       'source_country', 'campaign_medium', 'medium_hits_mean',\n",
      "       'medium_hits_min', 'medium_hits_max', 'medium_hits_sum'],\n",
      "      dtype='object')\n",
      "{'totals_transactionRevenue'}\n"
     ]
    }
   ],
   "source": [
    "print(len(g_train_df.columns))\n",
    "print(g_train_df.columns)\n",
    "print(\"******************************\")\n",
    "print(len(g_test_df.columns))\n",
    "print(g_test_df.columns)\n",
    "print(set(g_train_df.columns) -set(g_test_df.columns))"
   ]
  },
  {
   "cell_type": "code",
   "execution_count": 31,
   "metadata": {},
   "outputs": [
    {
     "name": "stderr",
     "output_type": "stream",
     "text": [
      "/Users/abhayranjan/anaconda3/lib/python3.6/site-packages/ipykernel_launcher.py:1: FutureWarning: Sorting because non-concatenation axis is not aligned. A future version\n",
      "of pandas will change to not sort by default.\n",
      "\n",
      "To accept the future behavior, pass 'sort=False'.\n",
      "\n",
      "To retain the current behavior and silence the warning, pass 'sort=True'.\n",
      "\n",
      "  \"\"\"Entry point for launching an IPython kernel.\n"
     ]
    }
   ],
   "source": [
    "merged_df = pd.concat([g_train_df,g_test_df])"
   ]
  },
  {
   "cell_type": "code",
   "execution_count": 32,
   "metadata": {},
   "outputs": [
    {
     "name": "stdout",
     "output_type": "stream",
     "text": [
      "66\n",
      "Index(['browser_category', 'browser_os', 'campaign_medium', 'channelGrouping',\n",
      "       'count_hits_per_network_domain', 'count_pageviews_per_network_domain',\n",
      "       'date', 'day', 'day_unique_user_count', 'device_browser',\n",
      "       'device_deviceCategory', 'device_isMobile', 'device_operatingSystem',\n",
      "       'fullVisitorId', 'geoNetwork_city', 'geoNetwork_continent',\n",
      "       'geoNetwork_country', 'geoNetwork_metro', 'geoNetwork_networkDomain',\n",
      "       'geoNetwork_region', 'geoNetwork_subContinent', 'max_hits_per_day',\n",
      "       'max_pageviews_per_day', 'mean_hits_per_day',\n",
      "       'mean_hits_per_network_domain', 'mean_pageviews_per_day',\n",
      "       'mean_pageviews_per_network_domain', 'medium_hits_max',\n",
      "       'medium_hits_mean', 'medium_hits_min', 'medium_hits_sum',\n",
      "       'min_hits_per_day', 'min_pageviews_per_day', 'month',\n",
      "       'month_unique_user_count', 'sessionId', 'source_country',\n",
      "       'sum_hits_per_day', 'sum_hits_per_network_domain',\n",
      "       'sum_pageviews_per_day', 'sum_pageviews_per_network_domain',\n",
      "       'totals_bounces', 'totals_hits', 'totals_newVisits', 'totals_pageviews',\n",
      "       'totals_transactionRevenue', 'trafficSource_adContent',\n",
      "       'trafficSource_adwordsClickInfo.adNetworkType',\n",
      "       'trafficSource_adwordsClickInfo.gclId',\n",
      "       'trafficSource_adwordsClickInfo.isVideoAd',\n",
      "       'trafficSource_adwordsClickInfo.page',\n",
      "       'trafficSource_adwordsClickInfo.slot', 'trafficSource_campaign',\n",
      "       'trafficSource_isTrueDirect', 'trafficSource_keyword',\n",
      "       'trafficSource_medium', 'trafficSource_referralPath',\n",
      "       'trafficSource_source', 'var_hits_per_day', 'visitId', 'visitNumber',\n",
      "       'visitStartTime', 'weekday', 'weekday_unique_user_count', 'weekofyear',\n",
      "       'year'],\n",
      "      dtype='object')\n"
     ]
    }
   ],
   "source": [
    "print(len(merged_df.columns))\n",
    "print(merged_df.columns)"
   ]
  },
  {
   "cell_type": "code",
   "execution_count": 33,
   "metadata": {},
   "outputs": [
    {
     "name": "stdout",
     "output_type": "stream",
     "text": [
      "ohe_cols: ['channelGrouping', 'device_deviceCategory', 'device_isMobile', 'device_operatingSystem', 'geoNetwork_continent', 'geoNetwork_subContinent', 'totals_bounces', 'totals_newVisits', 'trafficSource_adContent', 'trafficSource_adwordsClickInfo.adNetworkType', 'trafficSource_adwordsClickInfo.isVideoAd', 'trafficSource_adwordsClickInfo.page', 'trafficSource_adwordsClickInfo.slot', 'trafficSource_campaign', 'trafficSource_isTrueDirect', 'trafficSource_medium', 'year', 'month', 'day', 'weekday', 'weekofyear', 'campaign_medium']\n",
      "22\n"
     ]
    }
   ],
   "source": [
    "ohe_columns = []\n",
    "for i in cat_cols:\n",
    "    if len(set(merged_df[i].values))<100:\n",
    "        ohe_columns.append(i)\n",
    "            \n",
    "print('ohe_cols:',ohe_columns)\n",
    "print(len(ohe_columns))"
   ]
  },
  {
   "cell_type": "code",
   "execution_count": 34,
   "metadata": {
    "scrolled": true
   },
   "outputs": [
    {
     "data": {
      "text/plain": [
       "Index(['channelGrouping', 'date', 'fullVisitorId', 'sessionId', 'visitId',\n",
       "       'visitNumber', 'visitStartTime', 'device_browser',\n",
       "       'device_deviceCategory', 'device_isMobile', 'device_operatingSystem',\n",
       "       'geoNetwork_city', 'geoNetwork_continent', 'geoNetwork_country',\n",
       "       'geoNetwork_metro', 'geoNetwork_networkDomain', 'geoNetwork_region',\n",
       "       'geoNetwork_subContinent', 'totals_bounces', 'totals_hits',\n",
       "       'totals_newVisits', 'totals_pageviews', 'totals_transactionRevenue',\n",
       "       'trafficSource_adContent',\n",
       "       'trafficSource_adwordsClickInfo.adNetworkType',\n",
       "       'trafficSource_adwordsClickInfo.gclId',\n",
       "       'trafficSource_adwordsClickInfo.isVideoAd',\n",
       "       'trafficSource_adwordsClickInfo.page',\n",
       "       'trafficSource_adwordsClickInfo.slot', 'trafficSource_campaign',\n",
       "       'trafficSource_isTrueDirect', 'trafficSource_keyword',\n",
       "       'trafficSource_medium', 'trafficSource_referralPath',\n",
       "       'trafficSource_source', 'year', 'month', 'day', 'weekday', 'weekofyear',\n",
       "       'month_unique_user_count', 'day_unique_user_count',\n",
       "       'weekday_unique_user_count', 'browser_category', 'browser_os',\n",
       "       'mean_hits_per_day', 'sum_hits_per_day', 'max_hits_per_day',\n",
       "       'min_hits_per_day', 'var_hits_per_day', 'mean_pageviews_per_day',\n",
       "       'sum_pageviews_per_day', 'max_pageviews_per_day',\n",
       "       'min_pageviews_per_day', 'sum_pageviews_per_network_domain',\n",
       "       'count_pageviews_per_network_domain',\n",
       "       'mean_pageviews_per_network_domain', 'sum_hits_per_network_domain',\n",
       "       'count_hits_per_network_domain', 'mean_hits_per_network_domain',\n",
       "       'source_country', 'campaign_medium', 'medium_hits_mean',\n",
       "       'medium_hits_min', 'medium_hits_max', 'medium_hits_sum'],\n",
       "      dtype='object')"
      ]
     },
     "execution_count": 34,
     "metadata": {},
     "output_type": "execute_result"
    }
   ],
   "source": [
    "g_train_df.columns"
   ]
  },
  {
   "cell_type": "code",
   "execution_count": 35,
   "metadata": {},
   "outputs": [],
   "source": [
    "trn_shape=g_train_df.shape[0]\n",
    "merged_df = pd.get_dummies(merged_df,columns=ohe_columns)\n",
    "g_train_df = merged_df[:trn_shape]\n",
    "g_test_df  = merged_df[trn_shape:]"
   ]
  },
  {
   "cell_type": "code",
   "execution_count": 36,
   "metadata": {},
   "outputs": [],
   "source": [
    "g_train_df = g_train_df.loc[:,~g_train_df.columns.duplicated()]\n",
    "g_test_df = g_test_df.loc[:,~g_test_df.columns.duplicated()]"
   ]
  },
  {
   "cell_type": "code",
   "execution_count": 37,
   "metadata": {},
   "outputs": [
    {
     "name": "stdout",
     "output_type": "stream",
     "text": [
      "set()\n"
     ]
    }
   ],
   "source": [
    "print(set(g_train_df.columns) - set(g_test_df.columns))"
   ]
  },
  {
   "cell_type": "code",
   "execution_count": 38,
   "metadata": {},
   "outputs": [],
   "source": [
    "from sklearn import preprocessing\n",
    "from sklearn.preprocessing import LabelEncoder\n",
    "for col in cat_cols:\n",
    "    if col in ohe_columns:\n",
    "        continue\n",
    "    lbl = LabelEncoder()\n",
    "    lbl.fit(list(g_train_df[col].values.astype('str')) + list(g_test_df[col].values.astype('str')))\n",
    "    g_train_df[col]= lbl.transform(list(g_train_df[col].values.astype('str')))\n",
    "    g_test_df[col]= lbl.transform(list(g_test_df[col].values.astype('str')))               "
   ]
  },
  {
   "cell_type": "code",
   "execution_count": 39,
   "metadata": {},
   "outputs": [
    {
     "name": "stdout",
     "output_type": "stream",
     "text": [
      "g_train_df.shape (903653, 398) g_test_df.shape (804684, 398)\n"
     ]
    }
   ],
   "source": [
    "print('g_train_df.shape',g_train_df.shape,'g_test_df.shape',g_test_df.shape)"
   ]
  },
  {
   "cell_type": "code",
   "execution_count": 40,
   "metadata": {},
   "outputs": [],
   "source": [
    "X = g_train_df.drop(not_used_cols,axis=1)\n",
    "y = g_train_df['totals_transactionRevenue']"
   ]
  },
  {
   "cell_type": "code",
   "execution_count": 41,
   "metadata": {},
   "outputs": [],
   "source": [
    "X_test = g_test_df.drop([col for col in not_used_cols if col in g_test_df.columns],axis=1)"
   ]
  },
  {
   "cell_type": "code",
   "execution_count": 42,
   "metadata": {},
   "outputs": [],
   "source": [
    "from sklearn.metrics import mean_squared_error\n",
    "from sklearn.model_selection import KFold,StratifiedKFold\n",
    "from sklearn import model_selection,preprocessing,metrics\n",
    "import matplotlib.pyplot as plt\n",
    "import seaborn as sns"
   ]
  },
  {
   "cell_type": "code",
   "execution_count": 43,
   "metadata": {},
   "outputs": [],
   "source": [
    "lgb_params1 = {\"objective\":\"regression\",\"metric\":\"rmse\",\"max_depth\":8,\"min_child_samples\":20,\n",
    "              \"reg_alpha\":1,\"reg_lambda\":1,\"num_leaves\":257,\"learning_rate\":0.01,\n",
    "              \"sub_sample\":0.8,\"colsample_bytree\":0.8,\"verbosity\":-1}"
   ]
  },
  {
   "cell_type": "code",
   "execution_count": 44,
   "metadata": {},
   "outputs": [
    {
     "name": "stderr",
     "output_type": "stream",
     "text": [
      "/Users/abhayranjan/anaconda3/lib/python3.6/site-packages/lightgbm/__init__.py:46: UserWarning: Starting from version 2.2.1, the library file in distribution wheels for macOS is built by the Apple Clang (Xcode_9.4.1) compiler.\n",
      "This means that in case of installing LightGBM from PyPI via the ``pip install lightgbm`` command, you don't need to install the gcc compiler anymore.\n",
      "Instead of that, you need to install the OpenMP library, which is required for running LightGBM on the system with the Apple Clang compiler.\n",
      "You can install the OpenMP library by the following command: ``brew install libomp``.\n",
      "  \"You can install the OpenMP library by the following command: ``brew install libomp``.\", UserWarning)\n"
     ]
    }
   ],
   "source": [
    "from sklearn.model_selection import StratifiedKFold\n",
    "import lightgbm as lgb"
   ]
  },
  {
   "cell_type": "code",
   "execution_count": 45,
   "metadata": {},
   "outputs": [
    {
     "name": "stdout",
     "output_type": "stream",
     "text": [
      "test\n"
     ]
    }
   ],
   "source": [
    "print(\"test\")\n",
    "y_log = np.log1p(y)\n",
    "y_categorized = pd.cut(y_log,bins=range(0,25,3),include_lowest=True,right=False,labels=range(0,24,3))"
   ]
  },
  {
   "cell_type": "code",
   "execution_count": 46,
   "metadata": {},
   "outputs": [
    {
     "name": "stderr",
     "output_type": "stream",
     "text": [
      "/Users/abhayranjan/anaconda3/lib/python3.6/site-packages/sklearn/model_selection/_split.py:626: Warning: The least populated class in y has only 4 members, which is too few. The minimum number of members in any class cannot be less than n_splits=5.\n",
      "  % (min_groups, self.n_splits)), Warning)\n"
     ]
    },
    {
     "name": "stdout",
     "output_type": "stream",
     "text": [
      "Training until validation scores don't improve for 100 rounds.\n",
      "[1000]\ttraining's rmse: 1.47877\tvalid_1's rmse: 1.61249\n",
      "Early stopping, best iteration is:\n",
      "[1098]\ttraining's rmse: 1.47155\tvalid_1's rmse: 1.61233\n",
      "Training until validation scores don't improve for 100 rounds.\n",
      "Early stopping, best iteration is:\n",
      "[891]\ttraining's rmse: 1.48736\tvalid_1's rmse: 1.62682\n",
      "Training until validation scores don't improve for 100 rounds.\n",
      "Early stopping, best iteration is:\n",
      "[675]\ttraining's rmse: 1.50202\tvalid_1's rmse: 1.63552\n",
      "Training until validation scores don't improve for 100 rounds.\n",
      "Early stopping, best iteration is:\n",
      "[722]\ttraining's rmse: 1.50419\tvalid_1's rmse: 1.61061\n",
      "Training until validation scores don't improve for 100 rounds.\n",
      "[1000]\ttraining's rmse: 1.48071\tvalid_1's rmse: 1.61747\n",
      "Early stopping, best iteration is:\n",
      "[957]\ttraining's rmse: 1.48367\tvalid_1's rmse: 1.6173\n"
     ]
    },
    {
     "name": "stderr",
     "output_type": "stream",
     "text": [
      "/Users/abhayranjan/anaconda3/lib/python3.6/site-packages/scipy/stats/stats.py:1713: FutureWarning: Using a non-tuple sequence for multidimensional indexing is deprecated; use `arr[tuple(seq)]` instead of `arr[seq]`. In the future this will be interpreted as an array index, `arr[np.array(seq)]`, which will result either in an error or a different result.\n",
      "  return np.add.reduce(sorted[indexer] * weights, axis=axis) / sumval\n"
     ]
    },
    {
     "name": "stdout",
     "output_type": "stream",
     "text": [
      "CV_LGB: 1.62000619\n"
     ]
    },
    {
     "data": {
      "image/png": "[encoded data removed]",
      "text/plain": [
       "<Figure size 1008x720 with 1 Axes>"
      ]
     },
     "metadata": {
      "needs_background": "light"
     },
     "output_type": "display_data"
    }
   ],
   "source": [
    "# Stratified Sampling\n",
    "FOLDs= StratifiedKFold(n_splits=5,shuffle=True,random_state=5)\n",
    "oof_lgb = np.zeros(len(g_train_df))\n",
    "predictions_lgb = np.zeros(len(g_test_df))\n",
    "#print(list(X.columns))                          \n",
    "features_lgb = list(X.columns)\n",
    "feature_importance_df_lgb = pd.DataFrame()\n",
    "                           \n",
    "for fold_, (trn_idx,val_idx) in enumerate(FOLDs.split(X,y_categorized)):\n",
    "    trn_data = lgb.Dataset(X.iloc[trn_idx],label=y_log.iloc[trn_idx])\n",
    "    val_data = lgb.Dataset(X.iloc[val_idx],label=y_log.iloc[val_idx])\n",
    "    num_round=2000\n",
    "    clf = lgb.train(lgb_params1,trn_data,num_round,valid_sets=[trn_data,val_data],verbose_eval=1000,early_stopping_rounds=100)\n",
    "    oof_lgb[val_idx] = clf.predict(X.iloc[val_idx],num_iteration=clf.best_iteration)\n",
    "    fold_importance_df_lgb = pd.DataFrame()\n",
    "    fold_importance_df_lgb[\"feature\"] = features_lgb\n",
    "    fold_importance_df_lgb[\"importance\"] = clf.feature_importance()\n",
    "    fold_importance_df_lgb[\"fold\"] = fold_ + 1\n",
    "    feature_importance_df_lgb = pd.concat([feature_importance_df_lgb,fold_importance_df_lgb],axis=0)\n",
    "    predictions_lgb += clf.predict(X_test,num_iteration=clf.best_iteration) / FOLDs.n_splits\n",
    "    \n",
    "    \n",
    "cols = feature_importance_df_lgb[[\"feature\",\"importance\"]].groupby(\"feature\").mean().sort_values(by=\"importance\",ascending=False)[:50].index\n",
    "best_features_lgb = feature_importance_df_lgb.loc[feature_importance_df_lgb.feature.isin(cols)]\n",
    "plt.figure(figsize=(14,10))\n",
    "sns.barplot(x=\"importance\",y=\"feature\",data=best_features_lgb.sort_values(by=\"importance\",ascending=False))\n",
    "plt.title('LightGBM features( avg over folds)')\n",
    "plt.tight_layout()\n",
    "plt.savefig('lgbm_importancers.png')\n",
    "x = []\n",
    "for i in oof_lgb:\n",
    "    if i<0:\n",
    "        x.append(0.0)\n",
    "    else:\n",
    "        x.append(i)\n",
    "cv_lgb = mean_squared_error(x,y_log)**0.5\n",
    "cv_lgb = str(cv_lgb)\n",
    "cv_lgb = cv_lgb[:10]\n",
    "pd.DataFrame({'preds':x}).to_csv('lgb_oof_'+cv_lgb + '.csv',index=False)\n",
    "print(\"CV_LGB:\",cv_lgb)"
   ]
  },
  {
   "cell_type": "code",
   "execution_count": 47,
   "metadata": {},
   "outputs": [
    {
     "name": "stdout",
     "output_type": "stream",
     "text": [
      "         fullVisitorId  PredictedLogRevenue\n",
      "0  6167871330617112363             0.001687\n",
      "1  0643697640977915618             0.000000\n",
      "2  6059383810968229466             0.006811\n",
      "3  2376720078563423631             0.000000\n",
      "4  2314544520795440038             0.000000\n",
      "*********\n",
      "         fullVisitorId  PredictedLogRevenue\n",
      "0  0000000259678714014             0.098699\n",
      "1  0000049363351866189             0.001256\n",
      "2  0000053049821714864             0.000088\n",
      "3  0000059488412965267             0.003936\n",
      "4  0000085840370633780             0.002040\n"
     ]
    }
   ],
   "source": [
    "sub_df = g_test_df[['fullVisitorId']].copy()\n",
    "predictions_lgb[predictions_lgb<0] = 0\n",
    "sub_df['PredictedLogRevenue'] = np.expm1(predictions_lgb)\n",
    "print(sub_df.head(n=5))\n",
    "sub_df = sub_df.groupby(\"fullVisitorId\")[\"PredictedLogRevenue\"].sum().reset_index()\n",
    "print(\"*********\")\n",
    "print(sub_df.head(n=5))\n",
    "sub_df.columns = ['fullVisitorId',\"PredictedLogRevenue\"]\n",
    "\n",
    "sub_df[\"PredictedLogRevenue\"] = np.log1p(sub_df[\"PredictedLogRevenue\"])\n",
    "sub_df.to_csv(\"submission.csv\",index=False)"
   ]
  }
 ],
 "metadata": {
  "kernelspec": {
   "display_name": "Python 3",
   "language": "python",
   "name": "python3"
  },
  "language_info": {
   "codemirror_mode": {
    "name": "ipython",
    "version": 3
   },
   "file_extension": ".py",
   "mimetype": "text/x-python",
   "name": "python",
   "nbconvert_exporter": "python",
   "pygments_lexer": "ipython3",
   "version": "3.6.6"
  }
 },
 "nbformat": 4,
 "nbformat_minor": 2
}
